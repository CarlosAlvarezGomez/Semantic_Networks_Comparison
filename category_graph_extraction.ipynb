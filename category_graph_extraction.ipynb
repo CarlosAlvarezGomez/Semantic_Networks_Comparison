{
 "cells": [
  {
   "cell_type": "markdown",
   "id": "573da035-30cd-43bd-96ba-a49c2d6b5f70",
   "metadata": {},
   "source": [
    "# Read in category links file"
   ]
  },
  {
   "cell_type": "code",
   "execution_count": 2,
   "id": "f7638369-7da6-4f0a-b23b-8de4173f96bb",
   "metadata": {},
   "outputs": [],
   "source": [
    "query = open('enwiki-20080103-categorylinks.sql', 'r')\n"
   ]
  },
  {
   "cell_type": "code",
   "execution_count": 6,
   "id": "3a3ff249-b228-4da9-b04a-1f2bc975829d",
   "metadata": {},
   "outputs": [],
   "source": [
    "with open('enwiki-20080103-categorylinks.sql', 'r', encoding='utf-8', errors='ignore') as f:\n",
    "    content = f.read()"
   ]
  },
  {
   "cell_type": "code",
   "execution_count": 8,
   "id": "3e688087-868e-4fce-87a1-9da422913e13",
   "metadata": {},
   "outputs": [],
   "source": [
    "from mwsql import Dump"
   ]
  },
  {
   "cell_type": "code",
   "execution_count": 49,
   "id": "2cb4c948-e662-4f7f-813d-f976f55fe6b5",
   "metadata": {},
   "outputs": [],
   "source": [
    "dump = Dump.from_file('enwiki-20080103-categorylinks.sql.gz')"
   ]
  },
  {
   "cell_type": "code",
   "execution_count": 52,
   "id": "6cb52bb0-a304-4c40-9da2-b421660747bc",
   "metadata": {},
   "outputs": [
    {
     "data": {
      "text/plain": [
       "'latin'"
      ]
     },
     "execution_count": 52,
     "metadata": {},
     "output_type": "execute_result"
    }
   ],
   "source": [
    "# dump.encoding = 'latin'\n",
    "dump.encoding"
   ]
  },
  {
   "cell_type": "code",
   "execution_count": 46,
   "id": "b78bbd30-0a50-4fcf-8900-6b4c36fe13d1",
   "metadata": {},
   "outputs": [],
   "source": [
    "dump.to_csv('categories.csv')"
   ]
  },
  {
   "cell_type": "code",
   "execution_count": 38,
   "id": "65502b4a-c575-40b7-bac4-93e9d3ab54ac",
   "metadata": {},
   "outputs": [],
   "source": [
    "rows = dump.rows(convert_dtypes=True)"
   ]
  },
  {
   "cell_type": "code",
   "execution_count": 20,
   "id": "df0f7208-215f-4eec-bd3a-00747e514316",
   "metadata": {},
   "outputs": [],
   "source": [
    "from tqdm import tqdm"
   ]
  },
  {
   "cell_type": "code",
   "execution_count": 26,
   "id": "1ee08be0-9d0e-4f65-b7d6-10a2b38a8f27",
   "metadata": {},
   "outputs": [
    {
     "name": "stdout",
     "output_type": "stream",
     "text": [
      "['cl_from', 'cl_to', 'cl_sortkey', 'cl_timestamp']\n",
      "['6', 'Redirects_with_old_history', 'AmericanSamoa', '20070419221213']\n",
      "['6', 'Unprintworthy_redirects', 'AmericanSamoa', '20060301005610']\n",
      "['8', 'Redirects_with_old_history', 'AppliedEthics', '20070419221213']\n",
      "['8', 'Unprintworthy_redirects', 'AppliedEthics', '20060908041646']\n",
      "['10', 'Redirects_with_old_history', 'AccessibleComputing', '20070419221213']\n",
      "['10', 'Unprintworthy_redirects', 'AccessibleComputing', '20060908041604']\n",
      "['12', 'Accuracy_disputes', 'Anarchism', '20071120214307']\n",
      "['12', 'All_articles_with_unsourced_statements', 'Anarchism', '20071120214307']\n",
      "['12', 'All_pages_needing_cleanup', 'Anarchism', '20071120214307']\n",
      "['12', 'Anarchism', '', '20080103154041']\n"
     ]
    }
   ],
   "source": [
    "dump.head()"
   ]
  },
  {
   "cell_type": "code",
   "execution_count": 53,
   "id": "62e772fa-83a6-48f6-a4a0-f5b3909c2f0e",
   "metadata": {},
   "outputs": [
    {
     "ename": "StopIteration",
     "evalue": "",
     "output_type": "error",
     "traceback": [
      "\u001b[0;31m---------------------------------------------------------------------------\u001b[0m",
      "\u001b[0;31mStopIteration\u001b[0m                             Traceback (most recent call last)",
      "\u001b[0;32m/var/folders/20/t3vd226922d3blr2rq65ddvr0000gn/T/ipykernel_48606/2997483153.py\u001b[0m in \u001b[0;36m<module>\u001b[0;34m\u001b[0m\n\u001b[1;32m      1\u001b[0m \u001b[0mall_sql_rows\u001b[0m \u001b[0;34m=\u001b[0m \u001b[0;34m[\u001b[0m\u001b[0;34m]\u001b[0m\u001b[0;34m\u001b[0m\u001b[0;34m\u001b[0m\u001b[0m\n\u001b[0;32m----> 2\u001b[0;31m \u001b[0mnext_row\u001b[0m \u001b[0;34m=\u001b[0m \u001b[0mnext\u001b[0m\u001b[0;34m(\u001b[0m\u001b[0mrows\u001b[0m\u001b[0;34m)\u001b[0m\u001b[0;34m\u001b[0m\u001b[0;34m\u001b[0m\u001b[0m\n\u001b[0m\u001b[1;32m      3\u001b[0m \u001b[0;32mwhile\u001b[0m \u001b[0mnext_row\u001b[0m \u001b[0;32mis\u001b[0m \u001b[0;32mnot\u001b[0m \u001b[0;32mNone\u001b[0m\u001b[0;34m:\u001b[0m\u001b[0;34m\u001b[0m\u001b[0;34m\u001b[0m\u001b[0m\n\u001b[1;32m      4\u001b[0m     \u001b[0mall_sql_rows\u001b[0m\u001b[0;34m.\u001b[0m\u001b[0mappend\u001b[0m\u001b[0;34m(\u001b[0m\u001b[0mnext_row\u001b[0m\u001b[0;34m)\u001b[0m\u001b[0;34m\u001b[0m\u001b[0;34m\u001b[0m\u001b[0m\n\u001b[1;32m      5\u001b[0m     \u001b[0mnext_row\u001b[0m \u001b[0;34m=\u001b[0m \u001b[0mnext\u001b[0m\u001b[0;34m(\u001b[0m\u001b[0mrows\u001b[0m\u001b[0;34m)\u001b[0m\u001b[0;34m\u001b[0m\u001b[0;34m\u001b[0m\u001b[0m\n",
      "\u001b[0;31mStopIteration\u001b[0m: "
     ]
    }
   ],
   "source": [
    "all_sql_rows = []\n",
    "next_row = next(rows)\n",
    "while next_row is not None:\n",
    "    all_sql_rows.append(next_row)\n",
    "    next_row = next(rows)"
   ]
  },
  {
   "cell_type": "code",
   "execution_count": 54,
   "id": "72772479-8809-4e4a-baaf-8a2090f522f1",
   "metadata": {},
   "outputs": [
    {
     "data": {
      "text/plain": [
       "0"
      ]
     },
     "execution_count": 54,
     "metadata": {},
     "output_type": "execute_result"
    }
   ],
   "source": [
    "len(all_sql_rows)"
   ]
  },
  {
   "cell_type": "code",
   "execution_count": 40,
   "id": "a8760caa-97c7-49b3-82a9-0cad9d5988d2",
   "metadata": {},
   "outputs": [
    {
     "data": {
      "text/plain": [
       "['cl_from', 'cl_to', 'cl_sortkey', 'cl_timestamp']"
      ]
     },
     "execution_count": 40,
     "metadata": {},
     "output_type": "execute_result"
    }
   ],
   "source": [
    "dump.col_names"
   ]
  },
  {
   "cell_type": "code",
   "execution_count": 44,
   "id": "63d3379b-9a23-4bf4-ae2c-bcd647a91739",
   "metadata": {},
   "outputs": [],
   "source": [
    "dump.encoding = 'latin'"
   ]
  },
  {
   "cell_type": "markdown",
   "id": "d71689df-7f0c-47ff-968e-3117df7d8867",
   "metadata": {},
   "source": [
    "# Read page links"
   ]
  },
  {
   "cell_type": "code",
   "execution_count": 1,
   "id": "b2d4b1c9-58f0-4752-aad4-446b95332eb6",
   "metadata": {},
   "outputs": [],
   "source": [
    "query = open('enwiki-20080103-page.sql.gz', 'r')\n"
   ]
  },
  {
   "cell_type": "code",
   "execution_count": 2,
   "id": "ec0cfdba-c59e-4937-b957-28bc99c9a956",
   "metadata": {},
   "outputs": [],
   "source": [
    "with open('enwiki-20080103-page.sql.gz', 'r', encoding='utf-8', errors='ignore') as f:\n",
    "    content = f.read()"
   ]
  },
  {
   "cell_type": "code",
   "execution_count": 3,
   "id": "c01154bd-581b-4da2-b9a0-8f6eaa2962d3",
   "metadata": {},
   "outputs": [],
   "source": [
    "from mwsql import Dump"
   ]
  },
  {
   "cell_type": "code",
   "execution_count": 4,
   "id": "b9cdc6fd-6531-4a03-a7f9-3665d2cb3038",
   "metadata": {},
   "outputs": [],
   "source": [
    "dump = Dump.from_file('enwiki-20080103-page.sql.gz')"
   ]
  },
  {
   "cell_type": "code",
   "execution_count": 6,
   "id": "b6f8b3a6-37d1-4bb0-b824-e5af1b1a508b",
   "metadata": {},
   "outputs": [
    {
     "data": {
      "text/plain": [
       "'latin'"
      ]
     },
     "execution_count": 6,
     "metadata": {},
     "output_type": "execute_result"
    }
   ],
   "source": [
    "dump.encoding = 'latin'\n",
    "dump.encoding"
   ]
  },
  {
   "cell_type": "code",
   "execution_count": 7,
   "id": "27fda348-58ab-415d-8a09-ac084c21139a",
   "metadata": {},
   "outputs": [],
   "source": [
    "dump.to_csv('pages.csv')"
   ]
  },
  {
   "cell_type": "code",
   "execution_count": 8,
   "id": "e699a796-8651-4ea7-9066-4c6ea71cab72",
   "metadata": {},
   "outputs": [],
   "source": [
    "rows = dump.rows(convert_dtypes=True)"
   ]
  },
  {
   "cell_type": "code",
   "execution_count": 9,
   "id": "6e26810d-5dc2-4fad-ad07-7d9d86aa857a",
   "metadata": {},
   "outputs": [
    {
     "name": "stdout",
     "output_type": "stream",
     "text": [
      "['page_id', 'page_namespace', 'page_title', 'page_restrictions', 'page_counter', 'page_is_redirect', 'page_is_new', 'page_random', 'page_touched', 'page_latest', 'page_len']\n",
      "['6', '0', 'AmericanSamoa', '', '0', '1', '0', '0.387834867823715', '20070727152503', '133452270', '48']\n",
      "['8', '0', 'AppliedEthics', '', '0', '1', '0', '0.279508816338618', '20070727152503', '133452279', '49']\n",
      "['10', '0', 'AccessibleComputing', '', '0', '1', '0', '0.33167112649574', '20070727152503', '133452289', '57']\n",
      "['12', '0', 'Anarchism', '', '5252', '0', '0', '0.786172332974311', '20080103215623', '181964860', '67759']\n",
      "['13', '0', 'AfghanistanHistory', '', '5', '1', '0', '0.0621502865684687', '20070727152503', '74466652', '57']\n",
      "['14', '0', 'AfghanistanGeography', '', '0', '1', '0', '0.952234464653055', '20070727152503', '74466619', '59']\n",
      "['15', '0', 'AfghanistanPeople', '', '4', '1', '0', '0.574721494293512', '20070727152503', '135089040', '60']\n",
      "['17', '0', 'AfghanistanEconomy', '', '0', '1', '0', '0.36035608906332', '20070727152503', '74466531', '57']\n",
      "['18', '0', 'AfghanistanCommunications', '', '8', '1', '0', '0.75106815132412', '20070727152503', '74466499', '64']\n",
      "['19', '0', 'AfghanistanTransportations', '', '2', '1', '0', '0.674272520164282', '20070727152503', '74466423', '59']\n"
     ]
    }
   ],
   "source": [
    "dump.head()"
   ]
  },
  {
   "cell_type": "code",
   "execution_count": 10,
   "id": "78655c6b-f352-4a81-ae64-90e2217f6d01",
   "metadata": {},
   "outputs": [
    {
     "ename": "StopIteration",
     "evalue": "",
     "output_type": "error",
     "traceback": [
      "\u001b[0;31m---------------------------------------------------------------------------\u001b[0m",
      "\u001b[0;31mStopIteration\u001b[0m                             Traceback (most recent call last)",
      "\u001b[0;32m/var/folders/20/t3vd226922d3blr2rq65ddvr0000gn/T/ipykernel_1544/2997483153.py\u001b[0m in \u001b[0;36m<module>\u001b[0;34m\u001b[0m\n\u001b[1;32m      3\u001b[0m \u001b[0;32mwhile\u001b[0m \u001b[0mnext_row\u001b[0m \u001b[0;32mis\u001b[0m \u001b[0;32mnot\u001b[0m \u001b[0;32mNone\u001b[0m\u001b[0;34m:\u001b[0m\u001b[0;34m\u001b[0m\u001b[0;34m\u001b[0m\u001b[0m\n\u001b[1;32m      4\u001b[0m     \u001b[0mall_sql_rows\u001b[0m\u001b[0;34m.\u001b[0m\u001b[0mappend\u001b[0m\u001b[0;34m(\u001b[0m\u001b[0mnext_row\u001b[0m\u001b[0;34m)\u001b[0m\u001b[0;34m\u001b[0m\u001b[0;34m\u001b[0m\u001b[0m\n\u001b[0;32m----> 5\u001b[0;31m     \u001b[0mnext_row\u001b[0m \u001b[0;34m=\u001b[0m \u001b[0mnext\u001b[0m\u001b[0;34m(\u001b[0m\u001b[0mrows\u001b[0m\u001b[0;34m)\u001b[0m\u001b[0;34m\u001b[0m\u001b[0;34m\u001b[0m\u001b[0m\n\u001b[0m",
      "\u001b[0;31mStopIteration\u001b[0m: "
     ]
    }
   ],
   "source": [
    "all_sql_rows = []\n",
    "next_row = next(rows)\n",
    "while next_row is not None:\n",
    "    all_sql_rows.append(next_row)\n",
    "    next_row = next(rows)"
   ]
  },
  {
   "cell_type": "code",
   "execution_count": 11,
   "id": "8260f3a5-f42c-4a94-ac31-493c8af0fee7",
   "metadata": {},
   "outputs": [
    {
     "data": {
      "text/plain": [
       "11372877"
      ]
     },
     "execution_count": 11,
     "metadata": {},
     "output_type": "execute_result"
    }
   ],
   "source": [
    "len(all_sql_rows)"
   ]
  },
  {
   "cell_type": "code",
   "execution_count": 12,
   "id": "5c6c4993-8adf-4f78-8b57-10a597df3802",
   "metadata": {},
   "outputs": [
    {
     "data": {
      "text/plain": [
       "[6,\n",
       " 0,\n",
       " 'AmericanSamoa',\n",
       " '',\n",
       " 0,\n",
       " 1,\n",
       " 0,\n",
       " 0.387834867823715,\n",
       " '20070727152503',\n",
       " 133452270,\n",
       " 48]"
      ]
     },
     "execution_count": 12,
     "metadata": {},
     "output_type": "execute_result"
    }
   ],
   "source": [
    "all_sql_rows[0]"
   ]
  },
  {
   "cell_type": "code",
   "execution_count": 13,
   "id": "8a809232-9ccd-4d13-ba29-f6e290d024e7",
   "metadata": {},
   "outputs": [
    {
     "data": {
      "text/plain": [
       "['page_id',\n",
       " 'page_namespace',\n",
       " 'page_title',\n",
       " 'page_restrictions',\n",
       " 'page_counter',\n",
       " 'page_is_redirect',\n",
       " 'page_is_new',\n",
       " 'page_random',\n",
       " 'page_touched',\n",
       " 'page_latest',\n",
       " 'page_len']"
      ]
     },
     "execution_count": 13,
     "metadata": {},
     "output_type": "execute_result"
    }
   ],
   "source": [
    "dump.col_names"
   ]
  },
  {
   "cell_type": "markdown",
   "id": "46651b77-ffe3-4c50-99d4-3ee866a46dff",
   "metadata": {},
   "source": [
    "# Build hierarchy"
   ]
  },
  {
   "cell_type": "code",
   "execution_count": 15,
   "id": "2c36583c-158c-4b66-87ae-6fc13c93d47e",
   "metadata": {},
   "outputs": [],
   "source": [
    "import pandas as pd\n",
    "from tqdm import tqdm"
   ]
  },
  {
   "cell_type": "code",
   "execution_count": 16,
   "id": "54020a48-623f-40c2-b297-52eb38f8f522",
   "metadata": {},
   "outputs": [
    {
     "name": "stderr",
     "output_type": "stream",
     "text": [
      "/Users/khonzoda/opt/miniconda3/envs/networks-class-env/lib/python3.9/site-packages/IPython/core/interactiveshell.py:3441: DtypeWarning: Columns (3) have mixed types.Specify dtype option on import or set low_memory=False.\n",
      "  exec(code_obj, self.user_global_ns, self.user_ns)\n"
     ]
    },
    {
     "data": {
      "text/html": [
       "<div>\n",
       "<style scoped>\n",
       "    .dataframe tbody tr th:only-of-type {\n",
       "        vertical-align: middle;\n",
       "    }\n",
       "\n",
       "    .dataframe tbody tr th {\n",
       "        vertical-align: top;\n",
       "    }\n",
       "\n",
       "    .dataframe thead th {\n",
       "        text-align: right;\n",
       "    }\n",
       "</style>\n",
       "<table border=\"1\" class=\"dataframe\">\n",
       "  <thead>\n",
       "    <tr style=\"text-align: right;\">\n",
       "      <th></th>\n",
       "      <th>page_id</th>\n",
       "      <th>page_namespace</th>\n",
       "      <th>page_title</th>\n",
       "      <th>page_restrictions</th>\n",
       "      <th>page_counter</th>\n",
       "      <th>page_is_redirect</th>\n",
       "      <th>page_is_new</th>\n",
       "      <th>page_random</th>\n",
       "      <th>page_touched</th>\n",
       "      <th>page_latest</th>\n",
       "      <th>page_len</th>\n",
       "    </tr>\n",
       "  </thead>\n",
       "  <tbody>\n",
       "    <tr>\n",
       "      <th>0</th>\n",
       "      <td>6</td>\n",
       "      <td>0</td>\n",
       "      <td>AmericanSamoa</td>\n",
       "      <td>NaN</td>\n",
       "      <td>0</td>\n",
       "      <td>1</td>\n",
       "      <td>0</td>\n",
       "      <td>0.387835</td>\n",
       "      <td>20070727152503</td>\n",
       "      <td>133452270</td>\n",
       "      <td>48</td>\n",
       "    </tr>\n",
       "    <tr>\n",
       "      <th>1</th>\n",
       "      <td>8</td>\n",
       "      <td>0</td>\n",
       "      <td>AppliedEthics</td>\n",
       "      <td>NaN</td>\n",
       "      <td>0</td>\n",
       "      <td>1</td>\n",
       "      <td>0</td>\n",
       "      <td>0.279509</td>\n",
       "      <td>20070727152503</td>\n",
       "      <td>133452279</td>\n",
       "      <td>49</td>\n",
       "    </tr>\n",
       "    <tr>\n",
       "      <th>2</th>\n",
       "      <td>10</td>\n",
       "      <td>0</td>\n",
       "      <td>AccessibleComputing</td>\n",
       "      <td>NaN</td>\n",
       "      <td>0</td>\n",
       "      <td>1</td>\n",
       "      <td>0</td>\n",
       "      <td>0.331671</td>\n",
       "      <td>20070727152503</td>\n",
       "      <td>133452289</td>\n",
       "      <td>57</td>\n",
       "    </tr>\n",
       "    <tr>\n",
       "      <th>3</th>\n",
       "      <td>12</td>\n",
       "      <td>0</td>\n",
       "      <td>Anarchism</td>\n",
       "      <td>NaN</td>\n",
       "      <td>5252</td>\n",
       "      <td>0</td>\n",
       "      <td>0</td>\n",
       "      <td>0.786172</td>\n",
       "      <td>20080103215623</td>\n",
       "      <td>181964860</td>\n",
       "      <td>67759</td>\n",
       "    </tr>\n",
       "    <tr>\n",
       "      <th>4</th>\n",
       "      <td>13</td>\n",
       "      <td>0</td>\n",
       "      <td>AfghanistanHistory</td>\n",
       "      <td>NaN</td>\n",
       "      <td>5</td>\n",
       "      <td>1</td>\n",
       "      <td>0</td>\n",
       "      <td>0.062150</td>\n",
       "      <td>20070727152503</td>\n",
       "      <td>74466652</td>\n",
       "      <td>57</td>\n",
       "    </tr>\n",
       "  </tbody>\n",
       "</table>\n",
       "</div>"
      ],
      "text/plain": [
       "   page_id  page_namespace           page_title page_restrictions  \\\n",
       "0        6               0        AmericanSamoa               NaN   \n",
       "1        8               0        AppliedEthics               NaN   \n",
       "2       10               0  AccessibleComputing               NaN   \n",
       "3       12               0            Anarchism               NaN   \n",
       "4       13               0   AfghanistanHistory               NaN   \n",
       "\n",
       "   page_counter  page_is_redirect  page_is_new  page_random    page_touched  \\\n",
       "0             0                 1            0     0.387835  20070727152503   \n",
       "1             0                 1            0     0.279509  20070727152503   \n",
       "2             0                 1            0     0.331671  20070727152503   \n",
       "3          5252                 0            0     0.786172  20080103215623   \n",
       "4             5                 1            0     0.062150  20070727152503   \n",
       "\n",
       "   page_latest  page_len  \n",
       "0    133452270        48  \n",
       "1    133452279        49  \n",
       "2    133452289        57  \n",
       "3    181964860     67759  \n",
       "4     74466652        57  "
      ]
     },
     "execution_count": 16,
     "metadata": {},
     "output_type": "execute_result"
    }
   ],
   "source": [
    "pages_df = pd.read_csv('pages.csv')\n",
    "pages_df.head()"
   ]
  },
  {
   "cell_type": "code",
   "execution_count": 17,
   "id": "aff5a5d9-9191-4d26-b74b-b4903392a60e",
   "metadata": {},
   "outputs": [
    {
     "data": {
      "text/plain": [
       "dict_keys(['page_id', 'page_namespace', 'page_title', 'page_restrictions', 'page_counter', 'page_is_redirect', 'page_is_new', 'page_random', 'page_touched', 'page_latest', 'page_len'])"
      ]
     },
     "execution_count": 17,
     "metadata": {},
     "output_type": "execute_result"
    }
   ],
   "source": [
    "pages_dct = pages_df.to_dict()\n",
    "pages_dct.keys()"
   ]
  },
  {
   "cell_type": "code",
   "execution_count": 19,
   "id": "d0f7df78-be0c-45a9-a934-ad29cdb806e2",
   "metadata": {},
   "outputs": [
    {
     "name": "stderr",
     "output_type": "stream",
     "text": [
      "100%|███████████████████████████| 11372877/11372877 [00:47<00:00, 239835.34it/s]\n"
     ]
    }
   ],
   "source": [
    "page_id_to_title = {}\n",
    "page_title_to_id = {}\n",
    "duplicates = []\n",
    "for i in tqdm(range(len(pages_dct['page_id']))):\n",
    "    \n",
    "    page_id = str(pages_dct['page_id'][i])\n",
    "    page_title = pages_dct['page_title'][i]\n",
    "    page_namespace = pages_dct['page_namespace'][i]\n",
    "    \n",
    "    page_id_to_title[page_id] = page_title\n",
    "    if page_title not in page_title_to_id:\n",
    "        page_title_to_id[page_title] = {str(page_namespace): page_id}\n",
    "    elif str(page_namespace) not in page_title_to_id[page_title]:\n",
    "        page_title_to_id[page_title][str(page_namespace)] = page_id\n",
    "    else:\n",
    "        duplicates.append((page_title, page_title_to_id[page_title], page_id))\n",
    "\n",
    "len(page_id_to_title), len(page_title_to_id)\n",
    "\n",
    "\n",
    "def get_page_id_from_title(title, namespace, mapping=page_title_to_id):\n",
    "    if title in page_title_to_id and namespace in page_title_to_id[title]:\n",
    "        return page_title_to_id[title][namespace]\n",
    "    else:\n",
    "        return None\n",
    "    \n",
    "def get_page_title_from_id(id_, mapping=page_id_to_title):\n",
    "    if id_ in page_id_to_title:\n",
    "        return page_id_to_title[id_]\n",
    "    else:\n",
    "        return None"
   ]
  },
  {
   "cell_type": "code",
   "execution_count": 20,
   "id": "4c20d4ed-f02c-4e70-9194-0797402557c8",
   "metadata": {},
   "outputs": [
    {
     "data": {
      "text/plain": [
       "6"
      ]
     },
     "execution_count": 20,
     "metadata": {},
     "output_type": "execute_result"
    }
   ],
   "source": [
    "len(duplicates)"
   ]
  },
  {
   "cell_type": "code",
   "execution_count": 21,
   "id": "4b161925-eeab-4a1d-a751-8d7e09978b07",
   "metadata": {},
   "outputs": [
    {
     "data": {
      "text/html": [
       "<div>\n",
       "<style scoped>\n",
       "    .dataframe tbody tr th:only-of-type {\n",
       "        vertical-align: middle;\n",
       "    }\n",
       "\n",
       "    .dataframe tbody tr th {\n",
       "        vertical-align: top;\n",
       "    }\n",
       "\n",
       "    .dataframe thead th {\n",
       "        text-align: right;\n",
       "    }\n",
       "</style>\n",
       "<table border=\"1\" class=\"dataframe\">\n",
       "  <thead>\n",
       "    <tr style=\"text-align: right;\">\n",
       "      <th></th>\n",
       "      <th>cl_from</th>\n",
       "      <th>cl_to</th>\n",
       "      <th>cl_sortkey</th>\n",
       "      <th>cl_timestamp</th>\n",
       "    </tr>\n",
       "  </thead>\n",
       "  <tbody>\n",
       "    <tr>\n",
       "      <th>0</th>\n",
       "      <td>6</td>\n",
       "      <td>Redirects_with_old_history</td>\n",
       "      <td>AmericanSamoa</td>\n",
       "      <td>20070419221213</td>\n",
       "    </tr>\n",
       "    <tr>\n",
       "      <th>1</th>\n",
       "      <td>6</td>\n",
       "      <td>Unprintworthy_redirects</td>\n",
       "      <td>AmericanSamoa</td>\n",
       "      <td>20060301005610</td>\n",
       "    </tr>\n",
       "    <tr>\n",
       "      <th>2</th>\n",
       "      <td>8</td>\n",
       "      <td>Redirects_with_old_history</td>\n",
       "      <td>AppliedEthics</td>\n",
       "      <td>20070419221213</td>\n",
       "    </tr>\n",
       "    <tr>\n",
       "      <th>3</th>\n",
       "      <td>8</td>\n",
       "      <td>Unprintworthy_redirects</td>\n",
       "      <td>AppliedEthics</td>\n",
       "      <td>20060908041646</td>\n",
       "    </tr>\n",
       "    <tr>\n",
       "      <th>4</th>\n",
       "      <td>10</td>\n",
       "      <td>Redirects_with_old_history</td>\n",
       "      <td>AccessibleComputing</td>\n",
       "      <td>20070419221213</td>\n",
       "    </tr>\n",
       "  </tbody>\n",
       "</table>\n",
       "</div>"
      ],
      "text/plain": [
       "   cl_from                       cl_to           cl_sortkey    cl_timestamp\n",
       "0        6  Redirects_with_old_history        AmericanSamoa  20070419221213\n",
       "1        6     Unprintworthy_redirects        AmericanSamoa  20060301005610\n",
       "2        8  Redirects_with_old_history        AppliedEthics  20070419221213\n",
       "3        8     Unprintworthy_redirects        AppliedEthics  20060908041646\n",
       "4       10  Redirects_with_old_history  AccessibleComputing  20070419221213"
      ]
     },
     "execution_count": 21,
     "metadata": {},
     "output_type": "execute_result"
    }
   ],
   "source": [
    "categories_df = pd.read_csv('categories.csv')\n",
    "categories_df.head()"
   ]
  },
  {
   "cell_type": "code",
   "execution_count": 22,
   "id": "539b5c0d-08b1-4121-839e-0b9f4f690dc2",
   "metadata": {},
   "outputs": [
    {
     "data": {
      "text/plain": [
       "dict_keys(['cl_from', 'cl_to', 'cl_sortkey', 'cl_timestamp'])"
      ]
     },
     "execution_count": 22,
     "metadata": {},
     "output_type": "execute_result"
    }
   ],
   "source": [
    "categories_dct = categories_df.to_dict()\n",
    "categories_dct.keys()"
   ]
  },
  {
   "cell_type": "code",
   "execution_count": 23,
   "id": "e9ab42db-2413-4f50-a3d6-273e8aad1ede",
   "metadata": {},
   "outputs": [
    {
     "name": "stderr",
     "output_type": "stream",
     "text": [
      "100%|███████████████████████████| 18912664/18912664 [02:40<00:00, 117721.84it/s]\n"
     ]
    }
   ],
   "source": [
    "page_id_to_categories = {}\n",
    "all_category_names = []\n",
    "for i in tqdm(range(len(categories_dct['cl_from']))):\n",
    "    id_ = str(categories_dct['cl_from'][i])\n",
    "    category = categories_dct['cl_to'][i]\n",
    "    if id_ not in page_id_to_categories:\n",
    "        page_id_to_categories[id_] = []\n",
    "    page_id_to_categories[id_].append(category)\n",
    "    all_category_names.append(category)\n",
    "    \n",
    "def get_categories_from_id(id_, mapping=page_id_to_categories):\n",
    "    if id_ in page_id_to_categories:\n",
    "        return page_id_to_categories[id_]\n",
    "    else:\n",
    "        return None"
   ]
  },
  {
   "cell_type": "code",
   "execution_count": 25,
   "id": "0d4bb060-d9f1-4128-bd8a-c49796b9a08a",
   "metadata": {},
   "outputs": [
    {
     "name": "stderr",
     "output_type": "stream",
     "text": [
      "100%|███████████████████████████| 18912664/18912664 [01:03<00:00, 296461.24it/s]\n"
     ]
    }
   ],
   "source": [
    "category_name_to_page_id = {}\n",
    "for category_name in tqdm(all_category_names):\n",
    "    page_id = get_page_id_from_title(category_name, '14')\n",
    "    if page_id is not None:\n",
    "        category_name_to_page_id[category_name] = page_id\n",
    "        \n",
    "def get_id_from_category_name(category, mapping=category_name_to_page_id):\n",
    "    if category in category_name_to_page_id:\n",
    "        return category_name_to_page_id[category]\n",
    "    else:\n",
    "        return None"
   ]
  },
  {
   "cell_type": "markdown",
   "id": "45b576ce-60b9-4c3f-b747-eec0c9330daa",
   "metadata": {},
   "source": [
    "## [Level=0] CS articles"
   ]
  },
  {
   "cell_type": "code",
   "execution_count": 26,
   "id": "5e0d9269-7d3c-4f73-a11e-775e6824af19",
   "metadata": {},
   "outputs": [],
   "source": [
    "with open('docmap') as f:\n",
    "    text = f.read().split('\\n')"
   ]
  },
  {
   "cell_type": "code",
   "execution_count": 27,
   "id": "6a3ce900-c286-4a4a-82a1-3b1ab6d435ed",
   "metadata": {},
   "outputs": [],
   "source": [
    "cs_article_ids_to_titles = {}\n",
    "for line in text:\n",
    "    id_ = line.split('\\t')[0]\n",
    "    title = line.split('\\t')[1]\n",
    "    cs_article_ids_to_titles[id_] = title"
   ]
  },
  {
   "cell_type": "code",
   "execution_count": 346,
   "id": "9c6239a8-798f-4794-a85e-7f2782ca4782",
   "metadata": {},
   "outputs": [],
   "source": [
    "level_0_nodes = [int(elt) for elt in cs_article_ids_to_titles.keys()]\n"
   ]
  },
  {
   "cell_type": "code",
   "execution_count": 347,
   "id": "a9fdcb4b-d76e-44bc-a750-c6a8b24c7d71",
   "metadata": {},
   "outputs": [
    {
     "data": {
      "text/plain": [
       "14468"
      ]
     },
     "execution_count": 347,
     "metadata": {},
     "output_type": "execute_result"
    }
   ],
   "source": [
    "len(level_0_nodes)"
   ]
  },
  {
   "cell_type": "code",
   "execution_count": 348,
   "id": "3256748a-1601-4f83-97f5-4028c2c2ebe5",
   "metadata": {},
   "outputs": [
    {
     "data": {
      "text/plain": [
       "5323"
      ]
     },
     "execution_count": 348,
     "metadata": {},
     "output_type": "execute_result"
    }
   ],
   "source": [
    "level_0_nodes[0]"
   ]
  },
  {
   "cell_type": "code",
   "execution_count": 349,
   "id": "52137447-b6a1-4380-bce7-eed62bb6394f",
   "metadata": {},
   "outputs": [
    {
     "data": {
      "text/plain": [
       "True"
      ]
     },
     "execution_count": 349,
     "metadata": {},
     "output_type": "execute_result"
    }
   ],
   "source": [
    "all(type(elt)==int for elt in level_0_nodes)"
   ]
  },
  {
   "cell_type": "markdown",
   "id": "94083ce0-8b52-4a00-9a56-78d158ae8784",
   "metadata": {},
   "source": [
    "## [Level=1] Categories from CS articles"
   ]
  },
  {
   "cell_type": "code",
   "execution_count": 64,
   "id": "d88221cd-7769-48bb-90e7-29cdbd844efb",
   "metadata": {},
   "outputs": [],
   "source": [
    "import json"
   ]
  },
  {
   "cell_type": "code",
   "execution_count": 381,
   "id": "16c13c69-6f4e-4742-8dd8-70a31bcdaf7b",
   "metadata": {},
   "outputs": [
    {
     "name": "stderr",
     "output_type": "stream",
     "text": [
      "100%|██████████████████████████████████| 14468/14468 [00:00<00:00, 40164.14it/s]\n"
     ]
    },
    {
     "data": {
      "text/plain": [
       "6207"
      ]
     },
     "execution_count": 381,
     "metadata": {},
     "output_type": "execute_result"
    }
   ],
   "source": [
    "level_1_nodes = []\n",
    "level_1_edges = {}\n",
    "tree_children = {}\n",
    "G = nx.DiGraph()\n",
    "\n",
    "for node in tqdm(level_0_nodes):\n",
    "    categories = get_categories_from_id(str(node))\n",
    "    if categories is not None:\n",
    "        for category_name in categories:\n",
    "            category_id = get_page_id_from_title(category_name, '14')\n",
    "            if category_id is not None and int(category_id) != node:\n",
    "                if node not in level_1_edges:\n",
    "                    level_1_edges[node] = []\n",
    "                level_1_edges[node].append(int(category_id))\n",
    "                level_1_nodes.append(int(category_id))\n",
    "                G.add_edge(int(category_id), node)\n",
    "                \n",
    "                if int(category_id) not in tree_children:\n",
    "                    tree_children[int(category_id)] = set([])\n",
    "                tree_children[int(category_id)].add(node)\n",
    "                \n",
    "with open('wiki_category_graph_info/level_1_edges.json', 'w') as f:\n",
    "    json.dump(level_1_edges, f)\n",
    "     \n",
    "previous_level_nodes = list(set(level_1_nodes))\n",
    "len(previous_level_nodes)"
   ]
  },
  {
   "cell_type": "code",
   "execution_count": 358,
   "id": "d5950cd6-49e2-41c0-8101-5fc73dca48c5",
   "metadata": {},
   "outputs": [
    {
     "ename": "NetworkXNoCycle",
     "evalue": "No cycle found.",
     "output_type": "error",
     "traceback": [
      "\u001b[0;31m---------------------------------------------------------------------------\u001b[0m",
      "\u001b[0;31mNetworkXNoCycle\u001b[0m                           Traceback (most recent call last)",
      "\u001b[0;32m/var/folders/20/t3vd226922d3blr2rq65ddvr0000gn/T/ipykernel_1544/329246575.py\u001b[0m in \u001b[0;36m<module>\u001b[0;34m\u001b[0m\n\u001b[0;32m----> 1\u001b[0;31m \u001b[0mnetworkx\u001b[0m\u001b[0;34m.\u001b[0m\u001b[0malgorithms\u001b[0m\u001b[0;34m.\u001b[0m\u001b[0mcycles\u001b[0m\u001b[0;34m.\u001b[0m\u001b[0mfind_cycle\u001b[0m\u001b[0;34m(\u001b[0m\u001b[0mG\u001b[0m\u001b[0;34m)\u001b[0m\u001b[0;34m\u001b[0m\u001b[0;34m\u001b[0m\u001b[0m\n\u001b[0m",
      "\u001b[0;32m~/opt/miniconda3/envs/networks-class-env/lib/python3.9/site-packages/networkx/algorithms/cycles.py\u001b[0m in \u001b[0;36mfind_cycle\u001b[0;34m(G, source, orientation)\u001b[0m\n\u001b[1;32m    483\u001b[0m     \u001b[0;32melse\u001b[0m\u001b[0;34m:\u001b[0m\u001b[0;34m\u001b[0m\u001b[0;34m\u001b[0m\u001b[0m\n\u001b[1;32m    484\u001b[0m         \u001b[0;32massert\u001b[0m \u001b[0mlen\u001b[0m\u001b[0;34m(\u001b[0m\u001b[0mcycle\u001b[0m\u001b[0;34m)\u001b[0m \u001b[0;34m==\u001b[0m \u001b[0;36m0\u001b[0m\u001b[0;34m\u001b[0m\u001b[0;34m\u001b[0m\u001b[0m\n\u001b[0;32m--> 485\u001b[0;31m         \u001b[0;32mraise\u001b[0m \u001b[0mnx\u001b[0m\u001b[0;34m.\u001b[0m\u001b[0mexception\u001b[0m\u001b[0;34m.\u001b[0m\u001b[0mNetworkXNoCycle\u001b[0m\u001b[0;34m(\u001b[0m\u001b[0;34m\"No cycle found.\"\u001b[0m\u001b[0;34m)\u001b[0m\u001b[0;34m\u001b[0m\u001b[0;34m\u001b[0m\u001b[0m\n\u001b[0m\u001b[1;32m    486\u001b[0m \u001b[0;34m\u001b[0m\u001b[0m\n\u001b[1;32m    487\u001b[0m     \u001b[0;31m# We now have a list of edges which ends on a cycle.\u001b[0m\u001b[0;34m\u001b[0m\u001b[0;34m\u001b[0m\u001b[0m\n",
      "\u001b[0;31mNetworkXNoCycle\u001b[0m: No cycle found."
     ]
    }
   ],
   "source": [
    "networkx.algorithms.cycles.find_cycle(G)"
   ]
  },
  {
   "cell_type": "code",
   "execution_count": 359,
   "id": "d8e93027-003c-4893-9266-66824d2872a6",
   "metadata": {},
   "outputs": [
    {
     "data": {
      "text/plain": [
       "True"
      ]
     },
     "execution_count": 359,
     "metadata": {},
     "output_type": "execute_result"
    }
   ],
   "source": [
    "all(type(elt)==int for elt in level_1_edges.keys())"
   ]
  },
  {
   "cell_type": "code",
   "execution_count": 360,
   "id": "29c989c7-2fe4-4797-b366-536acd5364ed",
   "metadata": {},
   "outputs": [
    {
     "data": {
      "text/plain": [
       "True"
      ]
     },
     "execution_count": 360,
     "metadata": {},
     "output_type": "execute_result"
    }
   ],
   "source": [
    "all_values = []\n",
    "for elt in level_1_edges.values():\n",
    "    all_values += elt\n",
    "all(type(elt)==int for elt in all_values)"
   ]
  },
  {
   "cell_type": "code",
   "execution_count": 361,
   "id": "5762471f-b1ec-4b30-b612-9e87304ad5fc",
   "metadata": {},
   "outputs": [
    {
     "data": {
      "text/plain": [
       "45552"
      ]
     },
     "execution_count": 361,
     "metadata": {},
     "output_type": "execute_result"
    }
   ],
   "source": [
    "len(level_1_nodes)"
   ]
  },
  {
   "cell_type": "code",
   "execution_count": 362,
   "id": "c8732cf3-05ae-473f-b13f-cdf8accc6988",
   "metadata": {},
   "outputs": [
    {
     "data": {
      "text/plain": [
       "True"
      ]
     },
     "execution_count": 362,
     "metadata": {},
     "output_type": "execute_result"
    }
   ],
   "source": [
    "all(type(elt)==int for elt in level_1_nodes)"
   ]
  },
  {
   "cell_type": "code",
   "execution_count": 363,
   "id": "3f253b6f-6d85-47ad-8533-d457b4f8fa7f",
   "metadata": {},
   "outputs": [
    {
     "data": {
      "text/plain": [
       "(6207, [932, 807, 763, 681, 422, 366, 341, 305, 283, 251])"
      ]
     },
     "execution_count": 363,
     "metadata": {},
     "output_type": "execute_result"
    }
   ],
   "source": [
    "len(tree_children), sorted([len(tree_children[elt]) for elt in tree_children], reverse=True)[:10]"
   ]
  },
  {
   "cell_type": "code",
   "execution_count": 364,
   "id": "45315219-fb51-441c-8484-a0c478650829",
   "metadata": {},
   "outputs": [
    {
     "data": {
      "text/plain": [
       "{570040, 3777527}"
      ]
     },
     "execution_count": 364,
     "metadata": {},
     "output_type": "execute_result"
    }
   ],
   "source": [
    "tree_children[1038252]"
   ]
  },
  {
   "cell_type": "markdown",
   "id": "79722c14-6d25-47a8-bd85-e2ea62ee0e2b",
   "metadata": {},
   "source": [
    "## [Level>1] sub-categories from sub-categories"
   ]
  },
  {
   "cell_type": "code",
   "execution_count": 382,
   "id": "e960e587-b8f2-4617-9e69-f36d25a34bd4",
   "metadata": {},
   "outputs": [
    {
     "name": "stdout",
     "output_type": "stream",
     "text": [
      "Level=0, current_level_nodes=14468, path_history_count=14468\n",
      "Level=1, current_level_nodes=6207, path_history_count=10576\n",
      "Level=2, current_level_nodes=6391, path_history_count=13529\n",
      "Level=3, current_level_nodes=6541, path_history_count=15358\n",
      "Level=4, current_level_nodes=6348, path_history_count=16302\n",
      "Level=5, current_level_nodes=5802, path_history_count=16748\n",
      "Level=6, current_level_nodes=5211, path_history_count=16985\n",
      "Level=7, current_level_nodes=4695, path_history_count=17109\n",
      "Level=8, current_level_nodes=4293, path_history_count=17160\n",
      "Level=9, current_level_nodes=3955, path_history_count=17168\n",
      "Level=10, current_level_nodes=3642, path_history_count=17170\n",
      "Level=11, current_level_nodes=3341, path_history_count=17170\n",
      "Level=12, current_level_nodes=3080, path_history_count=17170\n",
      "Level=13, current_level_nodes=2836, path_history_count=17170\n",
      "Level=14, current_level_nodes=2622, path_history_count=17170\n",
      "Level=15, current_level_nodes=2436, path_history_count=17170\n",
      "Level=16, current_level_nodes=2303, path_history_count=17170\n",
      "Level=17, current_level_nodes=2215, path_history_count=17170\n",
      "Level=18, current_level_nodes=2106, path_history_count=17170\n",
      "Level=19, current_level_nodes=1984, path_history_count=17170\n",
      "Level=20, current_level_nodes=1870, path_history_count=17170\n",
      "Level=21, current_level_nodes=1768, path_history_count=17170\n",
      "Level=22, current_level_nodes=1685, path_history_count=17170\n",
      "Level=23, current_level_nodes=1616, path_history_count=17170\n",
      "Level=24, current_level_nodes=1542, path_history_count=17170\n",
      "Level=25, current_level_nodes=1468, path_history_count=17170\n",
      "Level=26, current_level_nodes=1397, path_history_count=17170\n",
      "Level=27, current_level_nodes=1342, path_history_count=17170\n",
      "Level=28, current_level_nodes=1288, path_history_count=17170\n",
      "Level=29, current_level_nodes=1237, path_history_count=17170\n",
      "Level=30, current_level_nodes=1194, path_history_count=17170\n",
      "Level=31, current_level_nodes=1160, path_history_count=17170\n",
      "Level=32, current_level_nodes=1115, path_history_count=17170\n",
      "Level=33, current_level_nodes=1076, path_history_count=17170\n",
      "Level=34, current_level_nodes=1041, path_history_count=17170\n",
      "Level=35, current_level_nodes=1005, path_history_count=17170\n",
      "Level=36, current_level_nodes=964, path_history_count=17170\n",
      "Level=37, current_level_nodes=927, path_history_count=17170\n",
      "Level=38, current_level_nodes=884, path_history_count=17170\n",
      "Level=39, current_level_nodes=848, path_history_count=17170\n",
      "Level=40, current_level_nodes=818, path_history_count=17170\n",
      "Level=41, current_level_nodes=781, path_history_count=17170\n",
      "Level=42, current_level_nodes=746, path_history_count=17170\n",
      "Level=43, current_level_nodes=716, path_history_count=17170\n",
      "Level=44, current_level_nodes=689, path_history_count=17170\n",
      "Level=45, current_level_nodes=666, path_history_count=17170\n",
      "Level=46, current_level_nodes=644, path_history_count=17170\n",
      "Level=47, current_level_nodes=619, path_history_count=17170\n",
      "Level=48, current_level_nodes=597, path_history_count=17170\n",
      "Level=49, current_level_nodes=576, path_history_count=17170\n",
      "Level=50, current_level_nodes=554, path_history_count=17170\n",
      "Level=51, current_level_nodes=526, path_history_count=17170\n",
      "Level=52, current_level_nodes=504, path_history_count=17170\n",
      "Level=53, current_level_nodes=479, path_history_count=17170\n",
      "Level=54, current_level_nodes=457, path_history_count=17170\n",
      "Level=55, current_level_nodes=445, path_history_count=17170\n",
      "Level=56, current_level_nodes=430, path_history_count=17170\n",
      "Level=57, current_level_nodes=414, path_history_count=17170\n",
      "Level=58, current_level_nodes=401, path_history_count=17170\n",
      "Level=59, current_level_nodes=389, path_history_count=17170\n",
      "Level=60, current_level_nodes=378, path_history_count=17170\n",
      "Level=61, current_level_nodes=369, path_history_count=17170\n",
      "Level=62, current_level_nodes=356, path_history_count=17170\n",
      "Level=63, current_level_nodes=344, path_history_count=17170\n",
      "Level=64, current_level_nodes=332, path_history_count=17170\n",
      "Level=65, current_level_nodes=316, path_history_count=17170\n",
      "Level=66, current_level_nodes=300, path_history_count=17170\n",
      "Level=67, current_level_nodes=286, path_history_count=17170\n",
      "Level=68, current_level_nodes=274, path_history_count=17170\n",
      "Level=69, current_level_nodes=259, path_history_count=17170\n",
      "Level=70, current_level_nodes=239, path_history_count=17170\n",
      "Level=71, current_level_nodes=219, path_history_count=17170\n",
      "Level=72, current_level_nodes=201, path_history_count=17170\n",
      "Level=73, current_level_nodes=190, path_history_count=17170\n",
      "Level=74, current_level_nodes=178, path_history_count=17170\n",
      "Level=75, current_level_nodes=170, path_history_count=17170\n",
      "Level=76, current_level_nodes=163, path_history_count=17170\n",
      "Level=77, current_level_nodes=154, path_history_count=17170\n",
      "Level=78, current_level_nodes=144, path_history_count=17170\n",
      "Level=79, current_level_nodes=136, path_history_count=17170\n",
      "Level=80, current_level_nodes=129, path_history_count=17170\n",
      "Level=81, current_level_nodes=121, path_history_count=17170\n",
      "Level=82, current_level_nodes=114, path_history_count=17170\n",
      "Level=83, current_level_nodes=107, path_history_count=17170\n",
      "Level=84, current_level_nodes=104, path_history_count=17170\n",
      "Level=85, current_level_nodes=100, path_history_count=17170\n",
      "Level=86, current_level_nodes=97, path_history_count=17170\n",
      "Level=87, current_level_nodes=93, path_history_count=17170\n",
      "Level=88, current_level_nodes=89, path_history_count=17170\n",
      "Level=89, current_level_nodes=86, path_history_count=17170\n",
      "Level=90, current_level_nodes=84, path_history_count=17170\n",
      "Level=91, current_level_nodes=82, path_history_count=17170\n",
      "Level=92, current_level_nodes=79, path_history_count=17170\n",
      "Level=93, current_level_nodes=71, path_history_count=17170\n",
      "Level=94, current_level_nodes=63, path_history_count=17170\n",
      "Level=95, current_level_nodes=55, path_history_count=17170\n",
      "Level=96, current_level_nodes=48, path_history_count=17170\n",
      "Level=97, current_level_nodes=41, path_history_count=17170\n",
      "Level=98, current_level_nodes=38, path_history_count=17170\n",
      "Level=99, current_level_nodes=34, path_history_count=17170\n",
      "Level=100, current_level_nodes=29, path_history_count=17170\n",
      "Level=101, current_level_nodes=24, path_history_count=17170\n",
      "Level=102, current_level_nodes=20, path_history_count=17170\n",
      "Level=103, current_level_nodes=19, path_history_count=17170\n",
      "Level=104, current_level_nodes=16, path_history_count=17170\n",
      "Level=105, current_level_nodes=14, path_history_count=17170\n",
      "Level=106, current_level_nodes=13, path_history_count=17170\n",
      "Level=107, current_level_nodes=10, path_history_count=17170\n",
      "Level=108, current_level_nodes=7, path_history_count=17170\n",
      "Level=109, current_level_nodes=4, path_history_count=17170\n",
      "Level=110, current_level_nodes=3, path_history_count=17170\n",
      "Level=111, current_level_nodes=2, path_history_count=17170\n",
      "Level=112, current_level_nodes=1, path_history_count=17170\n",
      "Level=113, current_level_nodes=0, path_history_count=17170\n"
     ]
    }
   ],
   "source": [
    "print('Level={}, current_level_nodes={}, path_history_count={}'.format(0, len(level_0_nodes), len(level_0_nodes)))\n",
    "level = 1\n",
    "new_cateogires_discovered = True\n",
    "cycle_found = False\n",
    "while new_cateogires_discovered:\n",
    "# while not cycle_found:\n",
    "    current_level_nodes = []\n",
    "    current_level_edges = {}\n",
    "    new_cateogires_discovered = False\n",
    "    for node in previous_level_nodes:\n",
    "        categories = get_categories_from_id(str(node))\n",
    "        if categories is not None:\n",
    "            for category_name in categories:\n",
    "                category_id = get_page_id_from_title(category_name, '14')\n",
    "                if category_id is not None and int(category_id) not in tree_children[node] and int(category_id) != node:\n",
    "                    new_cateogires_discovered = True\n",
    "                    \n",
    "                    if node not in current_level_edges:\n",
    "                        current_level_edges[node] = []\n",
    "                    current_level_edges[node].append(int(category_id))\n",
    "                    current_level_nodes.append(int(category_id))\n",
    "                    G.add_edge(int(category_id), node, weight=level)\n",
    "                    \n",
    "                    previous_level_tree_children = tree_children.copy()\n",
    "                    \n",
    "                    if int(category_id) not in tree_children:\n",
    "                        tree_children[int(category_id)] = set([])\n",
    "                    tree_children[int(category_id)].add(node)\n",
    "                    current_children = tree_children[int(category_id)] \n",
    "                    new_children = set(tree_children.get(node, []))\n",
    "                    tree_children[int(category_id)] = current_children.union(new_children)            \n",
    "\n",
    "    print('Level={}, current_level_nodes={}, path_history_count={}'.format(level, len(previous_level_nodes), len(tree_children)))\n",
    "    previous_level_nodes = list(set(current_level_nodes))    \n",
    "    level += 1\n",
    "    \n",
    "    with open('wiki_category_graph_info/level_{}_edges.json'.format(level), 'w') as f:\n",
    "        json.dump(current_level_edges, f)\n",
    "        \n",
    "#     try:\n",
    "#         cycle_found = networkx.algorithms.cycles.find_cycle(G)\n",
    "#     except NetworkXNoCycle:\n",
    "#         cycle_found = False\n",
    "\n",
    "        \n",
    "print('Level={}, current_level_nodes={}, path_history_count={}'.format(level, len(previous_level_nodes), len(tree_children)))\n",
    "    "
   ]
  },
  {
   "cell_type": "code",
   "execution_count": 387,
   "id": "4a6d006d-7547-42d6-9fe6-e56ebbbff347",
   "metadata": {},
   "outputs": [
    {
     "data": {
      "text/plain": [
       "'Wikipedia_administration'"
      ]
     },
     "execution_count": 387,
     "metadata": {},
     "output_type": "execute_result"
    }
   ],
   "source": [
    "get_page_title_from_id('2953378')"
   ]
  },
  {
   "cell_type": "code",
   "execution_count": 388,
   "id": "3f525160-4bdc-4b1d-b532-57f609105a7c",
   "metadata": {},
   "outputs": [
    {
     "data": {
      "text/plain": [
       "'Contents'"
      ]
     },
     "execution_count": 388,
     "metadata": {},
     "output_type": "execute_result"
    }
   ],
   "source": [
    "get_page_title_from_id('14105005')"
   ]
  },
  {
   "cell_type": "code",
   "execution_count": 390,
   "id": "64e88510-3fcc-4509-b9ca-ca3fc00725db",
   "metadata": {},
   "outputs": [],
   "source": [
    "bfs_category_tree = nx.bfs_tree(G, source=14105005)"
   ]
  },
  {
   "cell_type": "code",
   "execution_count": 392,
   "id": "f12165d3-5b02-42ca-9d88-878e1e389e04",
   "metadata": {},
   "outputs": [
    {
     "data": {
      "text/plain": [
       "True"
      ]
     },
     "execution_count": 392,
     "metadata": {},
     "output_type": "execute_result"
    }
   ],
   "source": [
    "networkx.algorithms.tree.recognition.is_tree(bfs_category_tree)"
   ]
  },
  {
   "cell_type": "code",
   "execution_count": 395,
   "id": "95512afb-cf91-44f0-851c-7e47f49e2dc7",
   "metadata": {},
   "outputs": [],
   "source": [
    "with open('wiki_category_bsf_tree.json', 'w') as f:\n",
    "    json.dump(list(bfs_category_tree.edges()), f)"
   ]
  },
  {
   "cell_type": "code",
   "execution_count": 372,
   "id": "43faa085-f373-4fb5-9bca-09fe9e0d295a",
   "metadata": {},
   "outputs": [
    {
     "data": {
      "text/plain": [
       "[(3399882, 693311), (693311, 4811085), (4811085, 766932), (766932, 3399882)]"
      ]
     },
     "execution_count": 372,
     "metadata": {},
     "output_type": "execute_result"
    }
   ],
   "source": [
    "cycle_found"
   ]
  },
  {
   "cell_type": "code",
   "execution_count": 373,
   "id": "5aa87344-d5be-485b-a8ae-f0c3ca00b1d4",
   "metadata": {},
   "outputs": [
    {
     "name": "stdout",
     "output_type": "stream",
     "text": [
      "3399882 693311 1\n",
      "693311 4811085 1\n",
      "4811085 766932 1\n",
      "766932 3399882 1\n"
     ]
    }
   ],
   "source": [
    "for n1, n2 in cycle_found:\n",
    "    print(n1, n2, G[n1][n2]['weight'])"
   ]
  },
  {
   "cell_type": "code",
   "execution_count": 377,
   "id": "6cd63644-dc72-4ebf-a67c-30eed72ad9cc",
   "metadata": {},
   "outputs": [
    {
     "data": {
      "text/plain": [
       "{12362, 13051, 517385, 693311, 1062161, 1166251, 6113442, 6572686}"
      ]
     },
     "execution_count": 377,
     "metadata": {},
     "output_type": "execute_result"
    }
   ],
   "source": [
    "previous_level_tree_children[3399882]"
   ]
  },
  {
   "cell_type": "code",
   "execution_count": 378,
   "id": "7d664481-eef8-4ece-aae2-11ab63589d90",
   "metadata": {},
   "outputs": [
    {
     "data": {
      "text/plain": [
       "{12362,\n",
       " 13051,\n",
       " 55891,\n",
       " 57819,\n",
       " 68334,\n",
       " 68345,\n",
       " 153754,\n",
       " 270233,\n",
       " 517385,\n",
       " 766932,\n",
       " 1062161,\n",
       " 1281569,\n",
       " 1498086,\n",
       " 2121996,\n",
       " 2174460,\n",
       " 2174615,\n",
       " 2356196,\n",
       " 4012981,\n",
       " 4249746,\n",
       " 4811085,\n",
       " 6061534,\n",
       " 6113442,\n",
       " 6572686,\n",
       " 7122853,\n",
       " 7139033,\n",
       " 8350676,\n",
       " 8551318,\n",
       " 9577342,\n",
       " 11867562,\n",
       " 14339966}"
      ]
     },
     "execution_count": 378,
     "metadata": {},
     "output_type": "execute_result"
    }
   ],
   "source": [
    "previous_level_tree_children[693311]"
   ]
  },
  {
   "cell_type": "code",
   "execution_count": 379,
   "id": "2513998e-3625-4c1b-83d0-38f7ad46f8a4",
   "metadata": {},
   "outputs": [
    {
     "data": {
      "text/plain": [
       "{12362,\n",
       " 55891,\n",
       " 57819,\n",
       " 68334,\n",
       " 68345,\n",
       " 270233,\n",
       " 766932,\n",
       " 1062161,\n",
       " 1281569,\n",
       " 1498086,\n",
       " 2174460,\n",
       " 2174615,\n",
       " 4012981,\n",
       " 6061534,\n",
       " 7122853,\n",
       " 8350676,\n",
       " 8551318,\n",
       " 11867562,\n",
       " 14339966}"
      ]
     },
     "execution_count": 379,
     "metadata": {},
     "output_type": "execute_result"
    }
   ],
   "source": [
    "previous_level_tree_children[4811085]"
   ]
  },
  {
   "cell_type": "code",
   "execution_count": 380,
   "id": "1db81bf4-c5eb-4a28-afed-652ea688f45a",
   "metadata": {},
   "outputs": [
    {
     "data": {
      "text/plain": [
       "{6627,\n",
       " 12362,\n",
       " 13051,\n",
       " 55891,\n",
       " 57819,\n",
       " 68334,\n",
       " 68345,\n",
       " 270233,\n",
       " 517385,\n",
       " 693311,\n",
       " 844614,\n",
       " 872248,\n",
       " 965522,\n",
       " 1062161,\n",
       " 1166251,\n",
       " 1281569,\n",
       " 2174460,\n",
       " 2174615,\n",
       " 3399882,\n",
       " 4029009,\n",
       " 6061534,\n",
       " 6113442,\n",
       " 6572686,\n",
       " 6611835,\n",
       " 8350676}"
      ]
     },
     "execution_count": 380,
     "metadata": {},
     "output_type": "execute_result"
    }
   ],
   "source": [
    "previous_level_tree_children[766932]"
   ]
  },
  {
   "cell_type": "markdown",
   "id": "77f45a55-ebdf-486c-8bf4-66b59433f656",
   "metadata": {},
   "source": [
    "## Construct the graph from edges on levels"
   ]
  },
  {
   "cell_type": "code",
   "execution_count": 325,
   "id": "f352fc19-8170-49c1-a8fa-30316569ace0",
   "metadata": {},
   "outputs": [],
   "source": [
    "import os\n",
    "import networkx as nx\n",
    "import networkx.algorithms.tree.recognition\n",
    "import networkx.algorithms.cycles\n",
    "from networkx.exception import *"
   ]
  },
  {
   "cell_type": "code",
   "execution_count": 304,
   "id": "22863731-1df4-4684-aa61-cc01c2695f78",
   "metadata": {},
   "outputs": [],
   "source": [
    "all_edges = []\n",
    "all_nodes = []\n",
    "file = set([])\n",
    "for f_name in os.listdir('wiki_category_graph_info'):\n",
    "    if not f_name.startswith('.'):\n",
    "        full_path = os.path.join('wiki_category_graph_info', f_name)\n",
    "        with open(full_path, 'r') as f:\n",
    "            edges_dict = json.load(f)\n",
    "        for node1 in edges_dict:\n",
    "            all_nodes.append(int(node1))\n",
    "            for node2 in edges_dict[node1]:\n",
    "                all_nodes.append(node2)\n",
    "                all_edges.append((node2, int(node1)))\n",
    "\n",
    "all_nodes = list(set(all_nodes))"
   ]
  },
  {
   "cell_type": "code",
   "execution_count": 305,
   "id": "d12208fa-a1aa-42fa-b05f-b9113a7011ad",
   "metadata": {},
   "outputs": [],
   "source": [
    "G = nx.DiGraph()\n",
    "G.add_edges_from(all_edges)"
   ]
  },
  {
   "cell_type": "code",
   "execution_count": 306,
   "id": "b57d89e0-7bbd-42f3-acb4-b7cf6ea2efb6",
   "metadata": {},
   "outputs": [
    {
     "data": {
      "text/plain": [
       "False"
      ]
     },
     "execution_count": 306,
     "metadata": {},
     "output_type": "execute_result"
    }
   ],
   "source": [
    "networkx.algorithms.tree.recognition.is_tree(G)"
   ]
  },
  {
   "cell_type": "code",
   "execution_count": 307,
   "id": "61cadc7a-e116-4b8e-85c0-e810866849c5",
   "metadata": {},
   "outputs": [
    {
     "data": {
      "text/plain": [
       "[(804312, 727188),\n",
       " (727188, 2759783),\n",
       " (2759783, 3314769),\n",
       " (3314769, 957124),\n",
       " (957124, 1826441),\n",
       " (1826441, 804312)]"
      ]
     },
     "execution_count": 307,
     "metadata": {},
     "output_type": "execute_result"
    }
   ],
   "source": [
    "networkx.algorithms.cycles.find_cycle(G)"
   ]
  },
  {
   "cell_type": "code",
   "execution_count": 284,
   "id": "b97ce58b-e017-442d-942a-6119ea739a2c",
   "metadata": {},
   "outputs": [
    {
     "data": {
      "text/plain": [
       "False"
      ]
     },
     "execution_count": 284,
     "metadata": {},
     "output_type": "execute_result"
    }
   ],
   "source": [
    "784409 in tree_children[784409]"
   ]
  },
  {
   "cell_type": "markdown",
   "id": "03318e16-8a97-4d4a-be00-be10cf3814b6",
   "metadata": {},
   "source": [
    "### Other method"
   ]
  },
  {
   "cell_type": "code",
   "execution_count": 56,
   "id": "fd0de349-522a-4f83-9694-54c6de256407",
   "metadata": {},
   "outputs": [
    {
     "name": "stderr",
     "output_type": "stream",
     "text": [
      "100%|█████████████████████████████████| 14468/14468 [00:00<00:00, 123546.98it/s]\n"
     ]
    },
    {
     "data": {
      "text/plain": [
       "22777"
      ]
     },
     "execution_count": 56,
     "metadata": {},
     "output_type": "execute_result"
    }
   ],
   "source": [
    "level_1_paths = []\n",
    "terminated_path_count = 0\n",
    "for path in tqdm(level_0_paths):\n",
    "    last_node = path[-1]\n",
    "    path_change_made = False\n",
    "    categories = get_categories_from_id(str(last_node))\n",
    "    if categories is not None:\n",
    "        for category_name in categories:\n",
    "            category_id = get_page_id_from_title(category_name, '0')\n",
    "            if category_id is not None and int(category_id) not in path:\n",
    "                level_1_paths.append(path + [int(category_id)])\n",
    "                path_change_made = True\n",
    "    if not path_change_made:\n",
    "        level_1_paths.append(path + ['_NONE_'])\n",
    "        terminated_path_count += 1\n",
    "        \n",
    "previous_level_paths = level_1_paths\n",
    "len(previous_level_paths)"
   ]
  },
  {
   "cell_type": "code",
   "execution_count": 59,
   "id": "5b0d31ee-eb61-49c2-a8e4-61019e505035",
   "metadata": {},
   "outputs": [
    {
     "name": "stderr",
     "output_type": "stream",
     "text": [
      "100%|██████████████████████████████████| 22777/22777 [00:00<00:00, 69524.13it/s]\n"
     ]
    },
    {
     "name": "stdout",
     "output_type": "stream",
     "text": [
      "Level=1, ended_paths_count=10533, current_paths_count=22777\n"
     ]
    },
    {
     "name": "stderr",
     "output_type": "stream",
     "text": [
      "2619971it [01:45, 24818.10it/s]                                                 \n"
     ]
    },
    {
     "ename": "KeyboardInterrupt",
     "evalue": "",
     "output_type": "error",
     "traceback": [
      "\u001b[0;31m---------------------------------------------------------------------------\u001b[0m",
      "\u001b[0;31mKeyboardInterrupt\u001b[0m                         Traceback (most recent call last)",
      "\u001b[0;32m/var/folders/20/t3vd226922d3blr2rq65ddvr0000gn/T/ipykernel_1544/1205088791.py\u001b[0m in \u001b[0;36m<module>\u001b[0;34m\u001b[0m\n\u001b[1;32m     12\u001b[0m                     \u001b[0mcategory_id\u001b[0m \u001b[0;34m=\u001b[0m \u001b[0mget_id_from_category_name\u001b[0m\u001b[0;34m(\u001b[0m\u001b[0mcategory_name\u001b[0m\u001b[0;34m)\u001b[0m\u001b[0;34m\u001b[0m\u001b[0;34m\u001b[0m\u001b[0m\n\u001b[1;32m     13\u001b[0m                     \u001b[0;32mif\u001b[0m \u001b[0mcategory_id\u001b[0m \u001b[0;32mis\u001b[0m \u001b[0;32mnot\u001b[0m \u001b[0;32mNone\u001b[0m \u001b[0;32mand\u001b[0m \u001b[0mint\u001b[0m\u001b[0;34m(\u001b[0m\u001b[0mcategory_id\u001b[0m\u001b[0;34m)\u001b[0m \u001b[0;32mnot\u001b[0m \u001b[0;32min\u001b[0m \u001b[0mpath\u001b[0m\u001b[0;34m:\u001b[0m\u001b[0;34m\u001b[0m\u001b[0;34m\u001b[0m\u001b[0m\n\u001b[0;32m---> 14\u001b[0;31m                         \u001b[0mcurrent_level_paths\u001b[0m\u001b[0;34m.\u001b[0m\u001b[0mappend\u001b[0m\u001b[0;34m(\u001b[0m\u001b[0mpath\u001b[0m \u001b[0;34m+\u001b[0m \u001b[0;34m[\u001b[0m\u001b[0mint\u001b[0m\u001b[0;34m(\u001b[0m\u001b[0mcategory_id\u001b[0m\u001b[0;34m)\u001b[0m\u001b[0;34m]\u001b[0m\u001b[0;34m)\u001b[0m\u001b[0;34m\u001b[0m\u001b[0;34m\u001b[0m\u001b[0m\n\u001b[0m\u001b[1;32m     15\u001b[0m                         \u001b[0mpath_change_made\u001b[0m \u001b[0;34m=\u001b[0m \u001b[0;32mTrue\u001b[0m\u001b[0;34m\u001b[0m\u001b[0;34m\u001b[0m\u001b[0m\n\u001b[1;32m     16\u001b[0m             \u001b[0;32mif\u001b[0m \u001b[0;32mnot\u001b[0m \u001b[0mpath_change_made\u001b[0m\u001b[0;34m:\u001b[0m\u001b[0;34m\u001b[0m\u001b[0;34m\u001b[0m\u001b[0m\n",
      "\u001b[0;31mKeyboardInterrupt\u001b[0m: "
     ]
    }
   ],
   "source": [
    "current_level_paths = []\n",
    "level = 1\n",
    "while terminated_path_count < len(previous_level_paths):\n",
    "    terminated_path_count = 0\n",
    "    for path in tqdm(previous_level_paths):\n",
    "        last_node = path[-1]\n",
    "        if last_node != '_NONE_':\n",
    "            path_change_made = False\n",
    "            categories = get_categories_from_id(str(last_node))\n",
    "            if categories is not None:\n",
    "                for category_name in categories:\n",
    "                    category_id = get_id_from_category_name(category_name)\n",
    "                    if category_id is not None and int(category_id) not in path:\n",
    "                        current_level_paths.append(path + [int(category_id)])\n",
    "                        path_change_made = True\n",
    "            if not path_change_made:\n",
    "                current_level_paths.append(path + ['_NONE_'])\n",
    "                terminated_path_count += 1\n",
    "        else:\n",
    "            terminated_path_count += 1\n",
    "            \n",
    "    print('Level={}, ended_paths_count={}, current_paths_count={}'.format(level, terminated_path_count, len(previous_level_paths)))\n",
    "    level += 1\n",
    "    previous_level_paths = current_level_paths\n",
    "    "
   ]
  },
  {
   "cell_type": "code",
   "execution_count": null,
   "id": "a41481da-b1d5-41d5-acce-76b7f15004d9",
   "metadata": {},
   "outputs": [],
   "source": []
  }
 ],
 "metadata": {
  "kernelspec": {
   "display_name": "Python 3 (ipykernel)",
   "language": "python",
   "name": "python3"
  },
  "language_info": {
   "codemirror_mode": {
    "name": "ipython",
    "version": 3
   },
   "file_extension": ".py",
   "mimetype": "text/x-python",
   "name": "python",
   "nbconvert_exporter": "python",
   "pygments_lexer": "ipython3",
   "version": "3.9.7"
  }
 },
 "nbformat": 4,
 "nbformat_minor": 5
}
