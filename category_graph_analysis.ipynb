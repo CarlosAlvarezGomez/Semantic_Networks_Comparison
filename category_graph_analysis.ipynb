{
 "cells": [
  {
   "cell_type": "code",
   "execution_count": 16,
   "id": "2c36583c-158c-4b66-87ae-6fc13c93d47e",
   "metadata": {},
   "outputs": [],
   "source": [
    "import pandas as pd\n",
    "from tqdm import tqdm\n",
    "import networkx as nx\n",
    "import json\n",
    "from networkx.algorithms.tree.recognition import *"
   ]
  },
  {
   "cell_type": "code",
   "execution_count": 2,
   "id": "54020a48-623f-40c2-b297-52eb38f8f522",
   "metadata": {},
   "outputs": [
    {
     "name": "stderr",
     "output_type": "stream",
     "text": [
      "/Users/khonzoda/opt/miniconda3/envs/networks-class-env/lib/python3.9/site-packages/IPython/core/interactiveshell.py:3441: DtypeWarning: Columns (3) have mixed types.Specify dtype option on import or set low_memory=False.\n",
      "  exec(code_obj, self.user_global_ns, self.user_ns)\n"
     ]
    },
    {
     "data": {
      "text/html": [
       "<div>\n",
       "<style scoped>\n",
       "    .dataframe tbody tr th:only-of-type {\n",
       "        vertical-align: middle;\n",
       "    }\n",
       "\n",
       "    .dataframe tbody tr th {\n",
       "        vertical-align: top;\n",
       "    }\n",
       "\n",
       "    .dataframe thead th {\n",
       "        text-align: right;\n",
       "    }\n",
       "</style>\n",
       "<table border=\"1\" class=\"dataframe\">\n",
       "  <thead>\n",
       "    <tr style=\"text-align: right;\">\n",
       "      <th></th>\n",
       "      <th>page_id</th>\n",
       "      <th>page_namespace</th>\n",
       "      <th>page_title</th>\n",
       "      <th>page_restrictions</th>\n",
       "      <th>page_counter</th>\n",
       "      <th>page_is_redirect</th>\n",
       "      <th>page_is_new</th>\n",
       "      <th>page_random</th>\n",
       "      <th>page_touched</th>\n",
       "      <th>page_latest</th>\n",
       "      <th>page_len</th>\n",
       "    </tr>\n",
       "  </thead>\n",
       "  <tbody>\n",
       "    <tr>\n",
       "      <th>0</th>\n",
       "      <td>6</td>\n",
       "      <td>0</td>\n",
       "      <td>AmericanSamoa</td>\n",
       "      <td>NaN</td>\n",
       "      <td>0</td>\n",
       "      <td>1</td>\n",
       "      <td>0</td>\n",
       "      <td>0.387835</td>\n",
       "      <td>20070727152503</td>\n",
       "      <td>133452270</td>\n",
       "      <td>48</td>\n",
       "    </tr>\n",
       "    <tr>\n",
       "      <th>1</th>\n",
       "      <td>8</td>\n",
       "      <td>0</td>\n",
       "      <td>AppliedEthics</td>\n",
       "      <td>NaN</td>\n",
       "      <td>0</td>\n",
       "      <td>1</td>\n",
       "      <td>0</td>\n",
       "      <td>0.279509</td>\n",
       "      <td>20070727152503</td>\n",
       "      <td>133452279</td>\n",
       "      <td>49</td>\n",
       "    </tr>\n",
       "    <tr>\n",
       "      <th>2</th>\n",
       "      <td>10</td>\n",
       "      <td>0</td>\n",
       "      <td>AccessibleComputing</td>\n",
       "      <td>NaN</td>\n",
       "      <td>0</td>\n",
       "      <td>1</td>\n",
       "      <td>0</td>\n",
       "      <td>0.331671</td>\n",
       "      <td>20070727152503</td>\n",
       "      <td>133452289</td>\n",
       "      <td>57</td>\n",
       "    </tr>\n",
       "    <tr>\n",
       "      <th>3</th>\n",
       "      <td>12</td>\n",
       "      <td>0</td>\n",
       "      <td>Anarchism</td>\n",
       "      <td>NaN</td>\n",
       "      <td>5252</td>\n",
       "      <td>0</td>\n",
       "      <td>0</td>\n",
       "      <td>0.786172</td>\n",
       "      <td>20080103215623</td>\n",
       "      <td>181964860</td>\n",
       "      <td>67759</td>\n",
       "    </tr>\n",
       "    <tr>\n",
       "      <th>4</th>\n",
       "      <td>13</td>\n",
       "      <td>0</td>\n",
       "      <td>AfghanistanHistory</td>\n",
       "      <td>NaN</td>\n",
       "      <td>5</td>\n",
       "      <td>1</td>\n",
       "      <td>0</td>\n",
       "      <td>0.062150</td>\n",
       "      <td>20070727152503</td>\n",
       "      <td>74466652</td>\n",
       "      <td>57</td>\n",
       "    </tr>\n",
       "  </tbody>\n",
       "</table>\n",
       "</div>"
      ],
      "text/plain": [
       "   page_id  page_namespace           page_title page_restrictions  \\\n",
       "0        6               0        AmericanSamoa               NaN   \n",
       "1        8               0        AppliedEthics               NaN   \n",
       "2       10               0  AccessibleComputing               NaN   \n",
       "3       12               0            Anarchism               NaN   \n",
       "4       13               0   AfghanistanHistory               NaN   \n",
       "\n",
       "   page_counter  page_is_redirect  page_is_new  page_random    page_touched  \\\n",
       "0             0                 1            0     0.387835  20070727152503   \n",
       "1             0                 1            0     0.279509  20070727152503   \n",
       "2             0                 1            0     0.331671  20070727152503   \n",
       "3          5252                 0            0     0.786172  20080103215623   \n",
       "4             5                 1            0     0.062150  20070727152503   \n",
       "\n",
       "   page_latest  page_len  \n",
       "0    133452270        48  \n",
       "1    133452279        49  \n",
       "2    133452289        57  \n",
       "3    181964860     67759  \n",
       "4     74466652        57  "
      ]
     },
     "execution_count": 2,
     "metadata": {},
     "output_type": "execute_result"
    }
   ],
   "source": [
    "pages_df = pd.read_csv('pages.csv')\n",
    "pages_df.head()"
   ]
  },
  {
   "cell_type": "code",
   "execution_count": 3,
   "id": "aff5a5d9-9191-4d26-b74b-b4903392a60e",
   "metadata": {},
   "outputs": [
    {
     "data": {
      "text/plain": [
       "dict_keys(['page_id', 'page_namespace', 'page_title', 'page_restrictions', 'page_counter', 'page_is_redirect', 'page_is_new', 'page_random', 'page_touched', 'page_latest', 'page_len'])"
      ]
     },
     "execution_count": 3,
     "metadata": {},
     "output_type": "execute_result"
    }
   ],
   "source": [
    "pages_dct = pages_df.to_dict()\n",
    "pages_dct.keys()"
   ]
  },
  {
   "cell_type": "code",
   "execution_count": 4,
   "id": "d0f7df78-be0c-45a9-a934-ad29cdb806e2",
   "metadata": {},
   "outputs": [
    {
     "name": "stderr",
     "output_type": "stream",
     "text": [
      "100%|███████████████████████████| 11372877/11372877 [00:49<00:00, 231583.81it/s]\n"
     ]
    }
   ],
   "source": [
    "page_id_to_title = {}\n",
    "page_title_to_id = {}\n",
    "duplicates = []\n",
    "for i in tqdm(range(len(pages_dct['page_id']))):\n",
    "    \n",
    "    page_id = str(pages_dct['page_id'][i])\n",
    "    page_title = pages_dct['page_title'][i]\n",
    "    page_namespace = pages_dct['page_namespace'][i]\n",
    "    \n",
    "    page_id_to_title[page_id] = page_title\n",
    "    if page_title not in page_title_to_id:\n",
    "        page_title_to_id[page_title] = {str(page_namespace): page_id}\n",
    "    elif str(page_namespace) not in page_title_to_id[page_title]:\n",
    "        page_title_to_id[page_title][str(page_namespace)] = page_id\n",
    "    else:\n",
    "        duplicates.append((page_title, page_title_to_id[page_title], page_id))\n",
    "\n",
    "len(page_id_to_title), len(page_title_to_id)\n",
    "\n",
    "\n",
    "def get_page_id_from_title(title, namespace, mapping=page_title_to_id):\n",
    "    if title in page_title_to_id and namespace in page_title_to_id[title]:\n",
    "        return page_title_to_id[title][namespace]\n",
    "    else:\n",
    "        return None\n",
    "    \n",
    "def get_page_title_from_id(id_, mapping=page_id_to_title):\n",
    "    if id_ in page_id_to_title:\n",
    "        return page_id_to_title[id_]\n",
    "    else:\n",
    "        return None"
   ]
  },
  {
   "cell_type": "code",
   "execution_count": 5,
   "id": "4c20d4ed-f02c-4e70-9194-0797402557c8",
   "metadata": {},
   "outputs": [
    {
     "data": {
      "text/plain": [
       "6"
      ]
     },
     "execution_count": 5,
     "metadata": {},
     "output_type": "execute_result"
    }
   ],
   "source": [
    "len(duplicates)"
   ]
  },
  {
   "cell_type": "code",
   "execution_count": 6,
   "id": "5e0d9269-7d3c-4f73-a11e-775e6824af19",
   "metadata": {},
   "outputs": [],
   "source": [
    "with open('docmap') as f:\n",
    "    text = f.read().split('\\n')"
   ]
  },
  {
   "cell_type": "code",
   "execution_count": 81,
   "id": "6a3ce900-c286-4a4a-82a1-3b1ab6d435ed",
   "metadata": {},
   "outputs": [],
   "source": [
    "cs_article_ids_to_titles = {}\n",
    "cs_article_titles_to_ids = {}\n",
    "for line in text:\n",
    "    id_ = line.split('\\t')[0]\n",
    "    title = line.split('\\t')[1]\n",
    "    cs_article_ids_to_titles[int(id_)] = title\n",
    "    cs_article_titles_to_ids[title] = int(id_)"
   ]
  },
  {
   "cell_type": "code",
   "execution_count": 82,
   "id": "ab3e5c64-f161-4884-8559-aa0c85c20e84",
   "metadata": {},
   "outputs": [
    {
     "data": {
      "text/plain": [
       "(14468, 14468)"
      ]
     },
     "execution_count": 82,
     "metadata": {},
     "output_type": "execute_result"
    }
   ],
   "source": [
    "len(cs_article_titles_to_ids), len(cs_article_ids_to_titles)"
   ]
  },
  {
   "cell_type": "code",
   "execution_count": 8,
   "id": "3f525160-4bdc-4b1d-b532-57f609105a7c",
   "metadata": {},
   "outputs": [
    {
     "data": {
      "text/plain": [
       "'Contents'"
      ]
     },
     "execution_count": 8,
     "metadata": {},
     "output_type": "execute_result"
    }
   ],
   "source": [
    "get_page_title_from_id('14105005')"
   ]
  },
  {
   "cell_type": "code",
   "execution_count": 12,
   "id": "95512afb-cf91-44f0-851c-7e47f49e2dc7",
   "metadata": {},
   "outputs": [],
   "source": [
    "with open('wiki_category_bsf_tree.json') as f:\n",
    "    bfs_category_tree = json.load(f)"
   ]
  },
  {
   "cell_type": "code",
   "execution_count": 14,
   "id": "3179ed90-beb9-4c12-9c20-e457ee18fdd4",
   "metadata": {},
   "outputs": [],
   "source": [
    "G = nx.DiGraph()"
   ]
  },
  {
   "cell_type": "code",
   "execution_count": 15,
   "id": "a41481da-b1d5-41d5-acce-76b7f15004d9",
   "metadata": {},
   "outputs": [],
   "source": [
    "for n1, n2 in bfs_category_tree:\n",
    "    G.add_edge(n1, n2)"
   ]
  },
  {
   "cell_type": "code",
   "execution_count": 18,
   "id": "5769ed7f-fedc-4e72-b5ba-c2e5aa937835",
   "metadata": {},
   "outputs": [
    {
     "data": {
      "text/plain": [
       "True"
      ]
     },
     "execution_count": 18,
     "metadata": {},
     "output_type": "execute_result"
    }
   ],
   "source": [
    "is_tree(G)"
   ]
  },
  {
   "cell_type": "code",
   "execution_count": 86,
   "id": "5274b731-85a9-428f-9cd3-fe204c984d4c",
   "metadata": {},
   "outputs": [
    {
     "data": {
      "text/plain": [
       "11278636"
      ]
     },
     "execution_count": 86,
     "metadata": {},
     "output_type": "execute_result"
    }
   ],
   "source": [
    "leaves = [n for n, d in dict(G.out_degree()).items() if d==0]\n",
    "leaves[0]"
   ]
  },
  {
   "cell_type": "code",
   "execution_count": 87,
   "id": "a5f8cccd-3d51-472e-82ce-e32533a4646e",
   "metadata": {},
   "outputs": [
    {
     "data": {
      "text/plain": [
       "23378"
      ]
     },
     "execution_count": 87,
     "metadata": {},
     "output_type": "execute_result"
    }
   ],
   "source": [
    "len(leaves)"
   ]
  },
  {
   "cell_type": "code",
   "execution_count": 89,
   "id": "db4c7ae8-9b0e-44aa-b3a9-ec971f602999",
   "metadata": {},
   "outputs": [
    {
     "data": {
      "text/plain": [
       "14468"
      ]
     },
     "execution_count": 89,
     "metadata": {},
     "output_type": "execute_result"
    }
   ],
   "source": [
    "len(cs_article_ids_to_titles.keys())"
   ]
  },
  {
   "cell_type": "code",
   "execution_count": 90,
   "id": "6e4a5e0f-0706-43bb-b3bc-f705e28382c9",
   "metadata": {},
   "outputs": [
    {
     "data": {
      "text/plain": [
       "12924"
      ]
     },
     "execution_count": 90,
     "metadata": {},
     "output_type": "execute_result"
    }
   ],
   "source": [
    "cs_article_leaves = set(cs_article_ids_to_titles.keys()).intersection(set(leaves))\n",
    "len(cs_article_leaves)"
   ]
  },
  {
   "cell_type": "code",
   "execution_count": 39,
   "id": "b0f4727e-e279-4448-9c22-c1a1f456aca6",
   "metadata": {},
   "outputs": [
    {
     "data": {
      "text/plain": [
       "168"
      ]
     },
     "execution_count": 39,
     "metadata": {},
     "output_type": "execute_result"
    }
   ],
   "source": [
    "cs_pages_for_computation = list(pd.read_csv('Semantic_Networks_Comparison-main/names.csv', header=None)[0])\n",
    "len(cs_pages_for_computation)"
   ]
  },
  {
   "cell_type": "code",
   "execution_count": 63,
   "id": "43a04f0f-3692-4dfb-953f-60c83ec79fca",
   "metadata": {},
   "outputs": [],
   "source": [
    "cs_page_ids_for_computation = [get_page_id_from_title(elt.replace(' ', '_'),'0') for elt in cs_pages_for_computation]\n",
    "cs_page_ids_for_computation = [int(elt) if elt is not None else 'None' for elt in cs_page_ids_for_computation]\n",
    "# len(cs_page_ids_for_computation)"
   ]
  },
  {
   "cell_type": "code",
   "execution_count": 64,
   "id": "03a79c2f-20b7-416d-84fb-cbfca67c04cf",
   "metadata": {},
   "outputs": [
    {
     "data": {
      "text/plain": [
       "4964625"
      ]
     },
     "execution_count": 64,
     "metadata": {},
     "output_type": "execute_result"
    }
   ],
   "source": [
    "cs_page_ids_for_computation[0]"
   ]
  },
  {
   "cell_type": "code",
   "execution_count": 65,
   "id": "eb5d7243-860f-46a9-ba8a-78285d73e869",
   "metadata": {},
   "outputs": [
    {
     "data": {
      "text/plain": [
       "('FishEye', 'Swatting')"
      ]
     },
     "execution_count": 65,
     "metadata": {},
     "output_type": "execute_result"
    }
   ],
   "source": [
    "cs_pages_for_computation[-4], cs_pages_for_computation[-5]"
   ]
  },
  {
   "cell_type": "code",
   "execution_count": 66,
   "id": "e92ed184-1b2c-4f57-a739-711c26efc05e",
   "metadata": {},
   "outputs": [
    {
     "data": {
      "text/plain": [
       "['FishBase',\n",
       " 'Fisher_information',\n",
       " 'Fred_Fish',\n",
       " 'Year_of_the_Fish',\n",
       " 'Fisher-Yates_shuffle',\n",
       " 'FishEye']"
      ]
     },
     "execution_count": 66,
     "metadata": {},
     "output_type": "execute_result"
    }
   ],
   "source": [
    "[elt for elt in list(cs_article_titles_to_ids.keys()) if 'Fish' in elt]"
   ]
  },
  {
   "cell_type": "code",
   "execution_count": 50,
   "id": "d76f3762-03d2-442d-84f5-71b7bb436633",
   "metadata": {},
   "outputs": [
    {
     "data": {
      "text/plain": [
       "'17420845'"
      ]
     },
     "execution_count": 50,
     "metadata": {},
     "output_type": "execute_result"
    }
   ],
   "source": [
    "cs_article_titles_to_ids['FishEye']"
   ]
  },
  {
   "cell_type": "code",
   "execution_count": 83,
   "id": "55d7e8eb-53e0-4882-a2c3-aa4184f97329",
   "metadata": {},
   "outputs": [],
   "source": [
    "cs_page_ids_from_docmap = [cs_article_titles_to_ids[elt] for elt in cs_pages_for_computation]"
   ]
  },
  {
   "cell_type": "code",
   "execution_count": 84,
   "id": "5a1341eb-8997-4ef1-805f-15fcb70c0a4e",
   "metadata": {},
   "outputs": [
    {
     "name": "stdout",
     "output_type": "stream",
     "text": [
      "326734 18935353\n",
      "None 15709175\n",
      "None 17420845\n",
      "20430 18933632\n",
      "30713 18934325\n",
      "14086808 18987740\n"
     ]
    }
   ],
   "source": [
    "zipped = zip(cs_page_ids_for_computation, cs_page_ids_from_docmap, cs_pages_for_computation)\n",
    "pages_to_consider_by_title = {}\n",
    "pages_to_consider_by_id = {}\n",
    "for id1, id2, title in zipped:\n",
    "    if id1 != id2:\n",
    "        print(id1, id2)\n",
    "    else:\n",
    "        pages_to_consider_by_title[title] = id1\n",
    "        pages_to_consider_by_id[id1] = title"
   ]
  },
  {
   "cell_type": "code",
   "execution_count": 68,
   "id": "bb068b16-327c-4e49-a52f-be7c13c70e30",
   "metadata": {},
   "outputs": [
    {
     "data": {
      "text/plain": [
       "(162, 162)"
      ]
     },
     "execution_count": 68,
     "metadata": {},
     "output_type": "execute_result"
    }
   ],
   "source": [
    "len(pages_to_consider_by_title), len(pages_to_consider_by_id)"
   ]
  },
  {
   "cell_type": "code",
   "execution_count": 74,
   "id": "336495ac-10ea-4658-bf4f-6ec73383ba84",
   "metadata": {},
   "outputs": [
    {
     "data": {
      "text/plain": [
       "159"
      ]
     },
     "execution_count": 74,
     "metadata": {},
     "output_type": "execute_result"
    }
   ],
   "source": [
    "pages_that_are_leaves = set(leaves).intersection(set(pages_to_consider_by_id.keys()))\n",
    "len(pages_that_are_leaves)"
   ]
  },
  {
   "cell_type": "code",
   "execution_count": 76,
   "id": "ced65974-081c-47b4-b2a8-5511916d91f6",
   "metadata": {},
   "outputs": [],
   "source": [
    "with open('updates_page_names.json', 'w') as f:\n",
    "    json.dump({pages_to_consider_by_id[k]: k for k in pages_that_are_leaves}, f)"
   ]
  },
  {
   "cell_type": "code",
   "execution_count": 93,
   "id": "a8ecd0da-25a8-462f-8a84-8b5eeb844e28",
   "metadata": {},
   "outputs": [],
   "source": [
    "source = 14105005"
   ]
  },
  {
   "cell_type": "code",
   "execution_count": 94,
   "id": "b772e7c0-c795-4f16-91d0-d1899312b68f",
   "metadata": {},
   "outputs": [
    {
     "data": {
      "text/plain": [
       "(9, 3)"
      ]
     },
     "execution_count": 94,
     "metadata": {},
     "output_type": "execute_result"
    }
   ],
   "source": [
    "path_lengths = [nx.shortest_path_length(G, source=source, target=n) for n in cs_article_leaves]\n",
    "max(path_lengths), min(path_lengths)"
   ]
  },
  {
   "cell_type": "code",
   "execution_count": 95,
   "id": "72c80fac-810a-4611-9ccc-b6b95c2a043e",
   "metadata": {},
   "outputs": [
    {
     "data": {
      "text/plain": [
       "(11, 2)"
      ]
     },
     "execution_count": 95,
     "metadata": {},
     "output_type": "execute_result"
    }
   ],
   "source": [
    "path_lengths = [nx.shortest_path_length(G, source=source, target=n) for n in leaves]\n",
    "max(path_lengths), min(path_lengths)"
   ]
  },
  {
   "cell_type": "code",
   "execution_count": 100,
   "id": "35a04a6a-d132-4f06-b754-788e37270973",
   "metadata": {},
   "outputs": [
    {
     "data": {
      "text/plain": [
       "[14105005, 14104879, 7345184, 690747, 990361, 776364, 2392067]"
      ]
     },
     "execution_count": 100,
     "metadata": {},
     "output_type": "execute_result"
    }
   ],
   "source": [
    "all_paths[0]"
   ]
  },
  {
   "cell_type": "code",
   "execution_count": 103,
   "id": "8f5f2aa0-f6f7-4587-a85b-1da17d2c1f53",
   "metadata": {},
   "outputs": [
    {
     "name": "stderr",
     "output_type": "stream",
     "text": [
      "100%|█████████████████████████████████████| 12924/12924 [15:34<00:00, 13.83it/s]\n"
     ]
    }
   ],
   "source": [
    "all_paths = []\n",
    "cs_articles_set = set(cs_article_leaves)\n",
    "for n in tqdm(cs_article_leaves):\n",
    "    paths = nx.all_simple_paths(G, source=source, target=n)\n",
    "    all_paths += [path for path in paths if len(set(path[:-1]).intersection(cs_articles_set))==0]"
   ]
  },
  {
   "cell_type": "code",
   "execution_count": 104,
   "id": "7dc97131-5e98-4298-85d0-89c56f09869c",
   "metadata": {},
   "outputs": [
    {
     "data": {
      "text/plain": [
       "12924"
      ]
     },
     "execution_count": 104,
     "metadata": {},
     "output_type": "execute_result"
    }
   ],
   "source": [
    "len(all_paths)"
   ]
  },
  {
   "cell_type": "code",
   "execution_count": 106,
   "id": "417998dd-b460-4b42-b2bf-4c2f4cf7eb8c",
   "metadata": {},
   "outputs": [],
   "source": [
    "edge_strings = []\n",
    "for path in all_paths:\n",
    "    pairs = zip(path, path[1:])\n",
    "    edge_strings += ['{}_{}'.format(parent, child) for parent, child in pairs]"
   ]
  },
  {
   "cell_type": "code",
   "execution_count": 107,
   "id": "0c76d920-bfcf-4457-ada7-3e930332c2f9",
   "metadata": {},
   "outputs": [
    {
     "data": {
      "text/plain": [
       "14868"
      ]
     },
     "execution_count": 107,
     "metadata": {},
     "output_type": "execute_result"
    }
   ],
   "source": [
    "unique_edge_strings = list(set(edge_strings))\n",
    "len(unique_edge_strings)"
   ]
  },
  {
   "cell_type": "code",
   "execution_count": 108,
   "id": "a4cf2298-b0bf-4b4e-bb9c-3d2281f9b16f",
   "metadata": {},
   "outputs": [],
   "source": [
    "trimmed_edges_list = []\n",
    "for string in unique_edge_strings:\n",
    "    elts = string.split('_')\n",
    "    parent = int(elts[0])\n",
    "    child = int(elts[1])\n",
    "    trimmed_edges_list.append(((parent, child)))"
   ]
  },
  {
   "cell_type": "code",
   "execution_count": 111,
   "id": "2333107a-269d-44b5-a1cd-1935a2397e4c",
   "metadata": {},
   "outputs": [],
   "source": [
    "G_trimmed = nx.DiGraph()"
   ]
  },
  {
   "cell_type": "code",
   "execution_count": 112,
   "id": "9282f598-dcd4-4402-a4d7-b99880ac842e",
   "metadata": {},
   "outputs": [
    {
     "name": "stderr",
     "output_type": "stream",
     "text": [
      "100%|█████████████████████████████████| 14868/14868 [00:00<00:00, 122606.61it/s]\n"
     ]
    }
   ],
   "source": [
    "for n1, n2 in tqdm(trimmed_edges_list):\n",
    "    G_trimmed.add_edge(n1, n2)"
   ]
  },
  {
   "cell_type": "code",
   "execution_count": 113,
   "id": "129efe09-04a6-4635-a906-95367365c5da",
   "metadata": {},
   "outputs": [
    {
     "data": {
      "text/plain": [
       "True"
      ]
     },
     "execution_count": 113,
     "metadata": {},
     "output_type": "execute_result"
    }
   ],
   "source": [
    "is_tree(G)"
   ]
  },
  {
   "cell_type": "code",
   "execution_count": 114,
   "id": "5e166147-edd8-4ef8-9949-80db04d74b0d",
   "metadata": {},
   "outputs": [],
   "source": [
    "def get_leaves(graph):\n",
    "    return [n for n, d in dict(graph.out_degree()).items() if d==0]"
   ]
  },
  {
   "cell_type": "code",
   "execution_count": 115,
   "id": "43afcca6-2cfe-44f8-ae6f-a532ee439c49",
   "metadata": {},
   "outputs": [
    {
     "data": {
      "text/plain": [
       "30657"
      ]
     },
     "execution_count": 115,
     "metadata": {},
     "output_type": "execute_result"
    }
   ],
   "source": [
    "leaves = get_leaves(G_trimmed)\n",
    "leaves[0]"
   ]
  },
  {
   "cell_type": "code",
   "execution_count": 116,
   "id": "e005d384-9dad-412c-99a0-fb1250aaade9",
   "metadata": {},
   "outputs": [
    {
     "data": {
      "text/plain": [
       "12924"
      ]
     },
     "execution_count": 116,
     "metadata": {},
     "output_type": "execute_result"
    }
   ],
   "source": [
    "len(leaves)"
   ]
  },
  {
   "cell_type": "code",
   "execution_count": 117,
   "id": "c61d42e0-c051-4016-81c2-a56950c6a5f5",
   "metadata": {},
   "outputs": [
    {
     "data": {
      "text/plain": [
       "14468"
      ]
     },
     "execution_count": 117,
     "metadata": {},
     "output_type": "execute_result"
    }
   ],
   "source": [
    "len(cs_article_ids_to_titles.keys())"
   ]
  },
  {
   "cell_type": "code",
   "execution_count": 118,
   "id": "7dab850c-644f-4fa3-a2e0-0ce85deacb8e",
   "metadata": {},
   "outputs": [
    {
     "data": {
      "text/plain": [
       "12924"
      ]
     },
     "execution_count": 118,
     "metadata": {},
     "output_type": "execute_result"
    }
   ],
   "source": [
    "cs_article_leaves = set(cs_article_ids_to_titles.keys()).intersection(set(leaves))\n",
    "len(cs_article_leaves)"
   ]
  },
  {
   "cell_type": "code",
   "execution_count": 119,
   "id": "15d67241-b4ba-48df-bcf7-91ca00310ba5",
   "metadata": {},
   "outputs": [],
   "source": [
    "source = 14105005"
   ]
  },
  {
   "cell_type": "code",
   "execution_count": 120,
   "id": "99023eba-4c56-49ee-a9c7-d27c7c51a833",
   "metadata": {},
   "outputs": [
    {
     "data": {
      "text/plain": [
       "(9, 3)"
      ]
     },
     "execution_count": 120,
     "metadata": {},
     "output_type": "execute_result"
    }
   ],
   "source": [
    "path_lengths = [nx.shortest_path_length(G_trimmed, source=source, target=n) for n in cs_article_leaves]\n",
    "max(path_lengths), min(path_lengths)"
   ]
  },
  {
   "cell_type": "code",
   "execution_count": 121,
   "id": "bbac05dc-b108-4fc2-97bd-3186e1e1cdcf",
   "metadata": {},
   "outputs": [],
   "source": [
    "def compute_branching_factor(graph):\n",
    "    out_degrees = [d for _, d in dict(graph.out_degree()).items()]\n",
    "    return sum(out_degrees)/len(out_degrees)"
   ]
  },
  {
   "cell_type": "code",
   "execution_count": 122,
   "id": "ad73e5e9-238d-4b9c-b104-5aaf2b0c40cd",
   "metadata": {},
   "outputs": [
    {
     "data": {
      "text/plain": [
       "0.9999327459815724"
      ]
     },
     "execution_count": 122,
     "metadata": {},
     "output_type": "execute_result"
    }
   ],
   "source": [
    "compute_branching_factor(G_trimmed)"
   ]
  },
  {
   "cell_type": "code",
   "execution_count": null,
   "id": "a39c8135-f154-4048-9ea3-d5e7e6799e45",
   "metadata": {},
   "outputs": [],
   "source": []
  }
 ],
 "metadata": {
  "kernelspec": {
   "display_name": "Python 3 (ipykernel)",
   "language": "python",
   "name": "python3"
  },
  "language_info": {
   "codemirror_mode": {
    "name": "ipython",
    "version": 3
   },
   "file_extension": ".py",
   "mimetype": "text/x-python",
   "name": "python",
   "nbconvert_exporter": "python",
   "pygments_lexer": "ipython3",
   "version": "3.9.7"
  }
 },
 "nbformat": 4,
 "nbformat_minor": 5
}
